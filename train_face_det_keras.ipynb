{
 "cells": [
  {
   "cell_type": "code",
   "execution_count": null,
   "metadata": {
    "colab": {
     "base_uri": "https://localhost:8080/"
    },
    "id": "CXGS3LMHdqW9",
    "outputId": "eddd8a54-46e0-4fff-f2c8-6072ed306142"
   },
   "outputs": [
    {
     "name": "stdout",
     "output_type": "stream",
     "text": [
      "Mounted at /content/drive\n"
     ]
    }
   ],
   "source": [
    "from google.colab import drive\n",
    "drive.mount('/content/drive')"
   ]
  },
  {
   "cell_type": "code",
   "execution_count": null,
   "metadata": {
    "id": "xlsDTttLeFOW"
   },
   "outputs": [],
   "source": [
    "import tensorflow as tf\n",
    "from keras.preprocessing.image import ImageDataGenerator\n",
    "from tensorflow.keras.models import load_model"
   ]
  },
  {
   "cell_type": "code",
   "execution_count": null,
   "metadata": {
    "colab": {
     "base_uri": "https://localhost:8080/"
    },
    "id": "HvbPkq1lIUzq",
    "outputId": "cd1b7aaa-9bca-4cd2-831f-e9dbfe55bd94"
   },
   "outputs": [
    {
     "name": "stdout",
     "output_type": "stream",
     "text": [
      "Found 2189 images belonging to 3 classes.\n",
      "Found 826 images belonging to 3 classes.\n"
     ]
    }
   ],
   "source": [
    "# Part 1 - Data Preprocessing\n",
    "\n",
    "# Preprocessing the Training set\n",
    "\n",
    "train_datagen = ImageDataGenerator(rescale = 1./255,\n",
    "                                   shear_range = 0.2,\n",
    "                                   zoom_range = 0.2,\n",
    "                                   horizontal_flip = True)\n",
    "training_set = train_datagen.flow_from_directory('/content/drive/MyDrive/Datasets/The office/train',\n",
    "                                                 target_size = (64, 64),\n",
    "                                                 batch_size = 32,\n",
    "                                                 class_mode = 'categorical')\n",
    "\n",
    "\n",
    "# Preprocessing the Test set\n",
    "\n",
    "test_datagen = ImageDataGenerator(rescale = 1./255)\n",
    "test_set = test_datagen.flow_from_directory('/content/drive/MyDrive/Datasets/The office/test',\n",
    "                                            target_size = (64, 64),\n",
    "                                            batch_size = 32,\n",
    "                                            class_mode = 'categorical')"
   ]
  },
  {
   "cell_type": "code",
   "execution_count": null,
   "metadata": {
    "colab": {
     "base_uri": "https://localhost:8080/"
    },
    "id": "twdq66SPKEkg",
    "outputId": "829f8c43-a029-4368-a840-fae41e4ef7d7"
   },
   "outputs": [
    {
     "name": "stdout",
     "output_type": "stream",
     "text": [
      "Epoch 1/25\n",
      "69/69 [==============================] - 857s 12s/step - loss: 0.9563 - accuracy: 0.5258 - val_loss: 0.5799 - val_accuracy: 0.7760\n",
      "Epoch 2/25\n",
      "69/69 [==============================] - 19s 272ms/step - loss: 0.5447 - accuracy: 0.7862 - val_loss: 0.3655 - val_accuracy: 0.8741\n",
      "Epoch 3/25\n",
      "69/69 [==============================] - 19s 274ms/step - loss: 0.4869 - accuracy: 0.8141 - val_loss: 0.3261 - val_accuracy: 0.8729\n",
      "Epoch 4/25\n",
      "69/69 [==============================] - 19s 275ms/step - loss: 0.4024 - accuracy: 0.8552 - val_loss: 0.2971 - val_accuracy: 0.9007\n",
      "Epoch 5/25\n",
      "69/69 [==============================] - 19s 272ms/step - loss: 0.3638 - accuracy: 0.8661 - val_loss: 0.2674 - val_accuracy: 0.9044\n",
      "Epoch 6/25\n",
      "69/69 [==============================] - 19s 272ms/step - loss: 0.3066 - accuracy: 0.8808 - val_loss: 0.2733 - val_accuracy: 0.8995\n",
      "Epoch 7/25\n",
      "69/69 [==============================] - 19s 276ms/step - loss: 0.2794 - accuracy: 0.8990 - val_loss: 0.2360 - val_accuracy: 0.9237\n",
      "Epoch 8/25\n",
      "69/69 [==============================] - 19s 273ms/step - loss: 0.2636 - accuracy: 0.9036 - val_loss: 0.2385 - val_accuracy: 0.9177\n",
      "Epoch 9/25\n",
      "69/69 [==============================] - 19s 275ms/step - loss: 0.2479 - accuracy: 0.9091 - val_loss: 0.2146 - val_accuracy: 0.9286\n",
      "Epoch 10/25\n",
      "69/69 [==============================] - 19s 274ms/step - loss: 0.2126 - accuracy: 0.9242 - val_loss: 0.1850 - val_accuracy: 0.9407\n",
      "Epoch 11/25\n",
      "69/69 [==============================] - 19s 271ms/step - loss: 0.2015 - accuracy: 0.9338 - val_loss: 0.1812 - val_accuracy: 0.9443\n",
      "Epoch 12/25\n",
      "69/69 [==============================] - 19s 271ms/step - loss: 0.1716 - accuracy: 0.9402 - val_loss: 0.1631 - val_accuracy: 0.9431\n",
      "Epoch 13/25\n",
      "69/69 [==============================] - 19s 268ms/step - loss: 0.1353 - accuracy: 0.9520 - val_loss: 0.1759 - val_accuracy: 0.9467\n",
      "Epoch 14/25\n",
      "69/69 [==============================] - 19s 275ms/step - loss: 0.1476 - accuracy: 0.9520 - val_loss: 0.2080 - val_accuracy: 0.9286\n",
      "Epoch 15/25\n",
      "69/69 [==============================] - 19s 274ms/step - loss: 0.1408 - accuracy: 0.9497 - val_loss: 0.1661 - val_accuracy: 0.9419\n",
      "Epoch 16/25\n",
      "69/69 [==============================] - 19s 270ms/step - loss: 0.1361 - accuracy: 0.9525 - val_loss: 0.1384 - val_accuracy: 0.9600\n",
      "Epoch 17/25\n",
      "69/69 [==============================] - 19s 273ms/step - loss: 0.1279 - accuracy: 0.9612 - val_loss: 0.1305 - val_accuracy: 0.9576\n",
      "Epoch 18/25\n",
      "69/69 [==============================] - 19s 278ms/step - loss: 0.1026 - accuracy: 0.9685 - val_loss: 0.1264 - val_accuracy: 0.9661\n",
      "Epoch 19/25\n",
      "69/69 [==============================] - 20s 282ms/step - loss: 0.1071 - accuracy: 0.9612 - val_loss: 0.1743 - val_accuracy: 0.9479\n",
      "Epoch 20/25\n",
      "69/69 [==============================] - 19s 275ms/step - loss: 0.1073 - accuracy: 0.9616 - val_loss: 0.1352 - val_accuracy: 0.9588\n",
      "Epoch 21/25\n",
      "69/69 [==============================] - 19s 274ms/step - loss: 0.0915 - accuracy: 0.9721 - val_loss: 0.1295 - val_accuracy: 0.9685\n",
      "Epoch 22/25\n",
      "69/69 [==============================] - 19s 275ms/step - loss: 0.0830 - accuracy: 0.9753 - val_loss: 0.1086 - val_accuracy: 0.9697\n",
      "Epoch 23/25\n",
      "69/69 [==============================] - 19s 275ms/step - loss: 0.0854 - accuracy: 0.9712 - val_loss: 0.1312 - val_accuracy: 0.9697\n",
      "Epoch 24/25\n",
      "69/69 [==============================] - 19s 276ms/step - loss: 0.0923 - accuracy: 0.9648 - val_loss: 0.1227 - val_accuracy: 0.9697\n",
      "Epoch 25/25\n",
      "69/69 [==============================] - 19s 274ms/step - loss: 0.0731 - accuracy: 0.9772 - val_loss: 0.1631 - val_accuracy: 0.9564\n"
     ]
    }
   ],
   "source": [
    "# Part 2 - Building the CNN\n",
    "\n",
    "# Initialising the CNN\n",
    "\n",
    "cnn = tf.keras.models.Sequential()\n",
    "\n",
    "# Step 1 - Convolution\n",
    "\n",
    "cnn.add(tf.keras.layers.Conv2D(filters=32, kernel_size=3, activation='relu', input_shape=[64, 64, 3]))\n",
    "\n",
    "# Step 2 - Pooling\n",
    "\n",
    "cnn.add(tf.keras.layers.MaxPool2D(pool_size=2, strides=2))\n",
    "\n",
    "# Adding a second convolutional layer\n",
    "\n",
    "cnn.add(tf.keras.layers.Conv2D(filters=32, kernel_size=3, activation='relu'))\n",
    "cnn.add(tf.keras.layers.MaxPool2D(pool_size=2, strides=2))\n",
    "\n",
    "# Step 3 - Flattening\n",
    "\n",
    "cnn.add(tf.keras.layers.Flatten())\n",
    "\n",
    "# Step 4 - Full Connection\n",
    "\n",
    "cnn.add(tf.keras.layers.Dense(units=128, activation='relu', ))\n",
    "\n",
    "# Step 5 - Output Layer\n",
    "\n",
    "cnn.add(tf.keras.layers.Dense(units=3, activation='softmax'))\n",
    "\n",
    "# Compiling the CNN\n",
    "\n",
    "cnn.compile(optimizer = 'adam', loss = 'categorical_crossentropy', metrics = ['accuracy'])\n",
    "\n",
    "# Training the CNN on the Training set and evaluating it on the Test set\n",
    "\n",
    "cnn.fit(x = training_set, validation_data = test_set, epochs = 25)\n",
    "\n",
    "# Saving the weights\n",
    "\n",
    "cnn.save('theoff_keras.hdf5')\n"
   ]
  }
 ],
 "metadata": {
  "colab": {
   "name": "Copy of face-det_keras.ipynb",
   "provenance": []
  },
  "kernelspec": {
   "display_name": "Python 3",
   "language": "python",
   "name": "python3"
  },
  "language_info": {
   "codemirror_mode": {
    "name": "ipython",
    "version": 3
   },
   "file_extension": ".py",
   "mimetype": "text/x-python",
   "name": "python",
   "nbconvert_exporter": "python",
   "pygments_lexer": "ipython3",
   "version": "3.8.10"
  }
 },
 "nbformat": 4,
 "nbformat_minor": 4
}
